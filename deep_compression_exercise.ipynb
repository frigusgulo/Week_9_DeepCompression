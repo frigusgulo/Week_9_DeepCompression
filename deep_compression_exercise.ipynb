{
 "cells": [
  {
   "cell_type": "markdown",
   "metadata": {},
   "source": [
    "# Exercise Week 9: Pruning and Quantization\n",
    "This week, we will explore some of the ideas discussed in Han, Mao, and Dally's Deep Compression.  In particular, we will implement weight pruning with fine tuning, as well as k-means weight quantization.  **Note that we will unfortunately not be doing this in a way that will actually lead to substantial efficiency gains: that would involve the use of sparse matrices which are not currently well-supported in pytorch.** \n",
    "\n",
    "## Training an MNIST classifier\n",
    "For this example, we'll work with a basic multilayer perceptron with a single hidden layer.  We will train it on the MNIST dataset so that it can classify handwritten digits.  As usual we load the data:"
   ]
  },
  {
   "cell_type": "code",
   "execution_count": 1,
   "metadata": {},
   "outputs": [],
   "source": [
    "import torch\n",
    "import torchvision.transforms as transforms\n",
    "import torchvision.datasets as datasets\n",
    "\n",
    "device = torch.device('cuda' if torch.cuda.is_available() else \"cpu\")\n",
    "\n",
    "train_dataset = datasets.MNIST(root='./data', train=True, transform=transforms.ToTensor(), download=True)\n",
    "test_dataset = datasets.MNIST(root='./data', train=False, transform=transforms.ToTensor())\n",
    "\n",
    "batch_size = 300\n",
    "train_loader = torch.utils.data.DataLoader(dataset=train_dataset, batch_size=batch_size, shuffle=True)\n",
    "test_loader = torch.utils.data.DataLoader(dataset=test_dataset, batch_size=batch_size, shuffle=False)"
   ]
  },
  {
   "cell_type": "markdown",
   "metadata": {},
   "source": [
    "Then define a model:"
   ]
  },
  {
   "cell_type": "code",
   "execution_count": 35,
   "metadata": {},
   "outputs": [],
   "source": [
    "class MultilayerPerceptron(torch.nn.Module):\n",
    "    def __init__(self, input_dim, hidden_dim, output_dim,mask=None):\n",
    "        super(MultilayerPerceptron, self).__init__()\n",
    "        if not mask:\n",
    "            self.mask = torch.nn.Parameter(torch.ones(input_dim,hidden_dim),requires_grad=False)\n",
    "        else:\n",
    "            self.mask = torch.nn.Parameter(mask)\n",
    "\n",
    "        self.W_0 = torch.nn.Parameter(1e-3*torch.randn(input_dim,hidden_dim)*self.mask,requires_grad=True)\n",
    "        self.b_0 = torch.nn.Parameter(torch.zeros(hidden_dim),requires_grad=True)\n",
    "\n",
    "        self.W_1 = torch.nn.Parameter(1e-3*torch.randn(hidden_dim,output_dim),requires_grad=True)\n",
    "        self.b_1 = torch.nn.Parameter(torch.zeros(output_dim),requires_grad=True)\n",
    "    \n",
    "    def set_mask(self,mask):\n",
    "        mask = torch.nn.Parameter(mask)\n",
    "        self.mask.data = mask.data\n",
    "        self.W_0.data = self.mask.data*self.W_0.data\n",
    "\n",
    "    def forward(self, x):\n",
    "        hidden = torch.tanh(x@(self.W_0*self.mask) + self.b_0)\n",
    "        outputs = hidden@self.W_1 + self.b_1\n",
    "        return outputs\n"
   ]
  },
  {
   "cell_type": "markdown",
   "metadata": {},
   "source": [
    "Note that the above code is a little bit different than a standard multilayer perceptron implementation.\n",
    "\n",
    "### Q1: What does this model have the capability of doing that a \"Vanilla\" MLP does not.  Why might we want this functionality for studying pruning?\n",
    "\n",
    "Let's first train this model without utilizing this extra functionality.  You can set the hidden layer size to whatever you'd like when instantiating the model:\n",
    "\n",
    "\n",
    "\n",
    "**Answer: This MLP accomodates a \"mask\" object, which implements pruning by creating 0 entries in a respective linear layer's weight matrix**"
   ]
  },
  {
   "cell_type": "code",
   "execution_count": 36,
   "metadata": {},
   "outputs": [],
   "source": [
    "n_epochs = 10\n",
    "\n",
    "input_dim = 784\n",
    "hidden_dim = 64\n",
    "output_dim = 10\n",
    "\n",
    "model = MultilayerPerceptron(input_dim,hidden_dim,output_dim)\n",
    "model = model.to(device)\n",
    "\n",
    "criterion = torch.nn.CrossEntropyLoss() # computes softmax and then the cross entropy\n",
    "lr_rate = 0.001\n",
    "optimizer = torch.optim.Adam(model.parameters(), lr=lr_rate, weight_decay=1e-3)"
   ]
  },
  {
   "cell_type": "markdown",
   "metadata": {},
   "source": [
    "And then training proceeds as normal."
   ]
  },
  {
   "cell_type": "code",
   "execution_count": 37,
   "metadata": {},
   "outputs": [
    {
     "name": "stdout",
     "output_type": "stream",
     "text": [
      "Iteration: 0. Loss: 0.4186490774154663. Accuracy: 90.\n"
     ]
    }
   ],
   "source": [
    "iter = 0\n",
    "for epoch in range(1):\n",
    "    for i, (images, labels) in enumerate(train_loader):\n",
    "        images = images.view(-1, 28 * 28).to(device)\n",
    "        labels = labels.to(device)\n",
    "\n",
    "        optimizer.zero_grad()\n",
    "        outputs = model(images)\n",
    "        loss = criterion(outputs, labels)\n",
    "        loss.backward()\n",
    "        optimizer.step()\n",
    "\n",
    "    # calculate Accuracy\n",
    "    correct = 0\n",
    "    total = 0\n",
    "    for images, labels in test_loader:\n",
    "        images = images.view(-1, 28*28).to(device)\n",
    "        labels = labels.to(device)\n",
    "        outputs = model(images)\n",
    "        _, predicted = torch.max(outputs.data, 1)\n",
    "        total+= labels.size(0)\n",
    "                # for gpu, bring the predicted and labels back to cpu fro python operations to work\n",
    "        correct+= (predicted == labels).sum()\n",
    "    accuracy = 100 * correct/total\n",
    "    print(\"Iteration: {}. Loss: {}. Accuracy: {}.\".format(epoch, loss.item(), accuracy))\n",
    "torch.save(model.state_dict(),'mnist_pretrained.h5')\n"
   ]
  },
  {
   "cell_type": "markdown",
   "metadata": {},
   "source": [
    "## Pruning\n",
    "\n",
    "Certainly not a state of the art model, but also not a terrible one.  Because we're hoping to do some weight pruning, let's inspect some of the weights directly (recall that we can act like they're images)"
   ]
  },
  {
   "cell_type": "code",
   "execution_count": 39,
   "metadata": {},
   "outputs": [
    {
     "data": {
      "image/png": "[encoded data removed]",
      "text/plain": [
       "<Figure size 432x288 with 1 Axes>"
      ]
     },
     "metadata": {
      "needs_background": "light"
     },
     "output_type": "display_data"
    }
   ],
   "source": [
    "import matplotlib.pyplot as plt\n",
    "W_0 = model.W_0.detach().cpu().numpy()\n",
    "plt.imshow(W_0[:,1].reshape((28,28)))\n",
    "plt.show()"
   ]
  },
  {
   "cell_type": "markdown",
   "metadata": {},
   "source": [
    "### Q2: Based on the above image, what weights might reasonably be pruned (i.e. explicitly forced to be zero)?\n",
    "\n",
    "** Based on the above image, It could be reasonable to prune the weights along the margins **\n",
    "\n",
    "\n",
    "### Q3: Implement some means of establishing a threshold for the (absolute value of the) weights, below which they are set to zero.  Using this method, create a mask array."
   ]
  },
  {
   "cell_type": "code",
   "execution_count": 40,
   "metadata": {},
   "outputs": [],
   "source": [
    "import numpy as np\n",
    "def mask(mat):\n",
    "    mat = np.abs(mat)\n",
    "    std = np.std(mat)\n",
    "    mean = np.mean(mat)\n",
    "    threshold = np.abs(mean - 2.5*std)\n",
    "    print(\"Mean: {}, STD: {}, Threshold: {}\\n\".format(mean,std,threshold))\n",
    "    mask = np.zeros_like(mat)\n",
    "    mask[mat>threshold] = 1\n",
    "    print(\"Non-Null Weight Ratio : {}\".format( (np.count_nonzero(mask==0)/(np.size(mask)))*100 ))\n",
    "    return mask"
   ]
  },
  {
   "cell_type": "code",
   "execution_count": 41,
   "metadata": {},
   "outputs": [
    {
     "name": "stdout",
     "output_type": "stream",
     "text": [
      "Mean: 0.03005061112344265, STD: 0.032245710492134094, Threshold: 0.050563665106892586\n",
      "\n",
      "Non-Null Weight Ratio : 75.25310905612244\n"
     ]
    }
   ],
   "source": [
    "W0_mask = mask(model.W_0.detach().cpu().numpy())\n",
    "W0_mask = torch.Tensor(W0_mask)\n",
    "W0_mask = W0_mask.to(device)\n",
    "model.set_mask(W0_mask)"
   ]
  },
  {
   "cell_type": "markdown",
   "metadata": {},
   "source": [
    "Now that we have a mask that explicitly establishes a sparsity pattern for our model, let's update our model with this mask:"
   ]
  },
  {
   "cell_type": "markdown",
   "metadata": {},
   "source": [
    "Now, we have explicitly set some entries in one of the the weight matrices to zero, and ensured via the mask, that they will not be updated by gradient descent.  Fine tune the model: "
   ]
  },
  {
   "cell_type": "code",
   "execution_count": 42,
   "metadata": {},
   "outputs": [
    {
     "name": "stdout",
     "output_type": "stream",
     "text": [
      "Iteration: 0. Loss: 0.28309938311576843. Accuracy: 91.\n",
      "Iteration: 0. Loss: 0.27462732791900635. Accuracy: 92.\n",
      "Iteration: 0. Loss: 0.20802313089370728. Accuracy: 92.\n",
      "Iteration: 0. Loss: 0.2611789107322693. Accuracy: 93.\n",
      "Iteration: 0. Loss: 0.26243436336517334. Accuracy: 93.\n",
      "Iteration: 0. Loss: 0.22998295724391937. Accuracy: 93.\n",
      "Iteration: 0. Loss: 0.23924028873443604. Accuracy: 94.\n",
      "Iteration: 0. Loss: 0.19653643667697906. Accuracy: 94.\n",
      "Iteration: 0. Loss: 0.1895284205675125. Accuracy: 94.\n",
      "Iteration: 0. Loss: 0.19546085596084595. Accuracy: 94.\n"
     ]
    }
   ],
   "source": [
    "iter = 0\n",
    "for epoch in range(n_epochs):\n",
    "    for i, (images, labels) in enumerate(train_loader):\n",
    "        images = images.view(-1, 28 * 28).to(device)\n",
    "        labels = labels.to(device)\n",
    "\n",
    "        optimizer.zero_grad()\n",
    "        outputs = model(images)\n",
    "        loss = criterion(outputs, labels)\n",
    "        loss.backward()\n",
    "        optimizer.step()\n",
    "\n",
    "    # calculate Accuracy\n",
    "    correct = 0\n",
    "    total = 0\n",
    "    for images, labels in test_loader:\n",
    "        images = images.view(-1, 28*28).to(device)\n",
    "        labels = labels.to(device)\n",
    "        outputs = model(images)\n",
    "        _, predicted = torch.max(outputs.data, 1)\n",
    "        total+= labels.size(0)\n",
    "                # for gpu, bring the predicted and labels back to cpu fro python operations to work\n",
    "        correct+= (predicted == labels).sum()\n",
    "    accuracy = 100 * correct/total\n",
    "    print(\"Iteration: {}. Loss: {}. Accuracy: {}.\".format(iter, loss.item(), accuracy))\n",
    "torch.save(model.state_dict(),'mnist_pruned.h5')"
   ]
  },
  {
   "cell_type": "markdown",
   "metadata": {},
   "source": [
    "### Q4: How much accuracy did you lose by pruning the model?  How much \"compression\" did you achieve (here defined as total entries in W_0 divided by number of non-zero entries)?  \n",
    "\n",
    "**I gained 2% accuracy after pruning about 86% of the weights.** \n",
    "\n",
    "\n",
    "### Q5: Explore a few different thresholds: approximately how many weights can you prune before accuracy starts to degrade?\n",
    "\n",
    "**After removing about 94% of the weights the accuracy began to degrade.**"
   ]
  },
  {
   "cell_type": "code",
   "execution_count": 43,
   "metadata": {},
   "outputs": [
    {
     "data": {
      "image/png": "[encoded data removed]",
      "text/plain": [
       "<Figure size 432x288 with 2 Axes>"
      ]
     },
     "metadata": {
      "needs_background": "light"
     },
     "output_type": "display_data"
    }
   ],
   "source": [
    "W_0 = model.W_0.detach().cpu().numpy()\n",
    "plt.imshow(W_0[:,1].reshape((28,28)))\n",
    "plt.colorbar()\n",
    "plt.show()"
   ]
  },
  {
   "cell_type": "markdown",
   "metadata": {},
   "source": [
    "## Quantization\n",
    "\n",
    "Now that we have a pruned model that appears to be performing well, let's see if we can make it even smaller by quantization.  To do this, we'll need a slightly different neural network, one that corresponds to Figure 3 from the paper.  Instead of having a matrix of float values, we'll have a matrix of integer labels (here called \"labels\") that correspond to entries in a (hopefully) small codebook of centroids (here called \"centroids\").  The way that I've coded it, there's still a mask that enforces our desired sparsity pattern."
   ]
  },
  {
   "cell_type": "code",
   "execution_count": 44,
   "metadata": {},
   "outputs": [],
   "source": [
    "class MultilayerPerceptronQuantized(torch.nn.Module):\n",
    "    def __init__(self, input_dim, output_dim, hidden_dim,mask,labels,centroids):\n",
    "        super(MultilayerPerceptronQuantized, self).__init__()\n",
    "        self.mask = torch.nn.Parameter(mask,requires_grad=False)\n",
    "        self.labels = torch.nn.Parameter(labels,requires_grad=False)\n",
    "        self.centroids = torch.nn.Parameter(centroids,requires_grad=True)\n",
    "\n",
    "        self.b_0 = torch.nn.Parameter(torch.zeros(hidden_dim))\n",
    "\n",
    "        self.W_1 = torch.nn.Parameter(1e-3*torch.randn(hidden_dim,output_dim))\n",
    "        self.b_1 = torch.nn.Parameter(torch.zeros(output_dim))\n",
    "\n",
    "    def forward(self, x):\n",
    "        W_0 = self.mask*self.centroids[self.labels]\n",
    "        hidden = torch.tanh(x@W_0 + self.b_0)\n",
    "        outputs = hidden@self.W_1 + self.b_1\n",
    "        return outputs"
   ]
  },
  {
   "cell_type": "markdown",
   "metadata": {},
   "source": [
    "Notice what is happening in the forward method: W_0 is being reconstructed by using a matrix (self.labels) to index into a vector (self.centroids).  The beauty of automatic differentiation allows backpropogation through this sort of weird indexing operation, and thus gives us gradients of the objective function with respect to the centroid values!\n",
    "\n",
    "### Q6: However, before we are able to use this AD magic, we need to specify the static label matrix (and an initial guess for centroids).  Use the k-means algorithm (or something else if you prefer) figure out the label matrix and centroid vectors.  PROTIP1: I used scikit-learns implementation of k-means.  PROTIP2: only cluster the non-zero entries"
   ]
  },
  {
   "cell_type": "code",
   "execution_count": 45,
   "metadata": {},
   "outputs": [],
   "source": [
    "from sklearn.cluster import KMeans\n",
    "# convert weight and mask matrices into numpy arrays\n",
    "W_0 = model.W_0.detach().cpu().numpy()\n",
    "mask = model.mask.detach().cpu().numpy()\n",
    "\n",
    "# Figure out the indices of non-zero entries \n",
    "inds = np.where(mask!=0)\n",
    "# Figure out the values of non-zero entries\n",
    "vals = np.expand_dims(W_0[inds],1)\n",
    "num_cluster = 2\n",
    "km = KMeans(n_clusters=num_cluster).fit(vals)"
   ]
  },
  {
   "cell_type": "code",
   "execution_count": 46,
   "metadata": {},
   "outputs": [
    {
     "data": {
      "text/plain": [
       "torch.Size([784, 64])"
      ]
     },
     "execution_count": 46,
     "metadata": {},
     "output_type": "execute_result"
    }
   ],
   "source": [
    "labels = np.zeros_like(W_0)\n",
    "labels[inds] = km.labels_\n",
    "labels = torch.tensor(labels,dtype=torch.long,device=device).squeeze()\n",
    "centers = km.cluster_centers_\n",
    "centroids = torch.tensor(centers,device=device).squeeze()\n",
    "labels.shape"
   ]
  },
  {
   "cell_type": "markdown",
   "metadata": {},
   "source": [
    "Now, we can instantiate our quantized model and import the appropriate pre-trained weights for the other network layers.  "
   ]
  },
  {
   "cell_type": "code",
   "execution_count": 47,
   "metadata": {},
   "outputs": [],
   "source": [
    "model_q = MultilayerPerceptronQuantized(input_dim,output_dim,hidden_dim,model.mask,labels,centroids)"
   ]
  },
  {
   "cell_type": "code",
   "execution_count": 48,
   "metadata": {},
   "outputs": [],
   "source": [
    "model_q = model_q.to(device)\n",
    "\n",
    "# Copy pre-trained weights from unquantized model for non-quantized layers\n",
    "model_q.b_0.data = model.b_0.data\n",
    "model_q.W_1.data = model.W_1.data\n",
    "model_q.b_1.data = model.b_1.data"
   ]
  },
  {
   "cell_type": "markdown",
   "metadata": {},
   "source": [
    "Finally, we can fine tune the quantized model.  We'll adjust not only the centroids, but also the weights in the other layers."
   ]
  },
  {
   "cell_type": "code",
   "execution_count": 49,
   "metadata": {},
   "outputs": [
    {
     "name": "stdout",
     "output_type": "stream",
     "text": [
      "Iteration: 0. Loss: 0.2916867434978485. Accuracy: 92.\n",
      "Iteration: 0. Loss: 0.205495223402977. Accuracy: 93.\n",
      "Iteration: 0. Loss: 0.20868274569511414. Accuracy: 93.\n",
      "Iteration: 0. Loss: 0.261547327041626. Accuracy: 93.\n",
      "Iteration: 0. Loss: 0.23044338822364807. Accuracy: 93.\n",
      "Iteration: 0. Loss: 0.22543968260288239. Accuracy: 93.\n",
      "Iteration: 0. Loss: 0.23166033625602722. Accuracy: 94.\n",
      "Iteration: 0. Loss: 0.24529825150966644. Accuracy: 94.\n",
      "Iteration: 0. Loss: 0.22417983412742615. Accuracy: 94.\n",
      "Iteration: 0. Loss: 0.21196895837783813. Accuracy: 94.\n"
     ]
    }
   ],
   "source": [
    "optimizer = torch.optim.Adam(model_q.parameters(), lr=lr_rate, weight_decay=1e-3)\n",
    "iter = 0\n",
    "for epoch in range(n_epochs):\n",
    "    for i, (images, labels) in enumerate(train_loader):\n",
    "        images = images.view(-1, 28 * 28).to(device)\n",
    "        labels = labels.to(device)\n",
    "\n",
    "        optimizer.zero_grad()\n",
    "        outputs = model_q(images)\n",
    "        loss = criterion(outputs, labels)\n",
    "        loss.backward()\n",
    "        optimizer.step()\n",
    "\n",
    "    # calculate Accuracy\n",
    "    correct = 0\n",
    "    total = 0\n",
    "    for images, labels in test_loader:\n",
    "        images = images.view(-1, 28*28).to(device)\n",
    "        labels = labels.to(device)\n",
    "        outputs = model_q(images)\n",
    "        _, predicted = torch.max(outputs.data, 1)\n",
    "        total+= labels.size(0)\n",
    "                # for gpu, bring the predicted and labels back to cpu fro python operations to work\n",
    "        correct+= (predicted == labels).sum()\n",
    "    accuracy = 100 * correct/total\n",
    "    print(\"Iteration: {}. Loss: {}. Accuracy: {}.\".format(iter, loss.item(), accuracy))\n",
    "torch.save(model.state_dict(),'mnist_quantized.h5')"
   ]
  },
  {
   "cell_type": "markdown",
   "metadata": {},
   "source": [
    "After retraining, we can, just for fun, reconstruct the pruned and quantized weights and plot them as images:"
   ]
  },
  {
   "cell_type": "code",
   "execution_count": 32,
   "metadata": {},
   "outputs": [
    {
     "data": {
      "image/png": "[encoded data removed]",
      "text/plain": [
       "<Figure size 432x288 with 1 Axes>"
      ]
     },
     "metadata": {
      "needs_background": "light"
     },
     "output_type": "display_data"
    }
   ],
   "source": [
    "W_0 = (model_q.mask*model_q.centroids[model_q.labels]).detach().cpu().numpy()\n",
    "plt.imshow(W_0[:,1].reshape((28,28)))\n",
    "plt.show()"
   ]
  },
  {
   "cell_type": "markdown",
   "metadata": {},
   "source": [
    "Certainly a much more parsimonious representation.  The obvious question now becomes:\n",
    "\n",
    "### Q7: How low can you go?  How small can the centroid codebook be before we see a substantial degradation in test set accuracy?\n",
    "\n",
    "I got down to two centroids before things got wierd. \n",
    "\n",
    "\n",
    "### Bonus question: Try establishing the sparsity pattern using a model that's only been trained for a single epoch, then fine tune the pruned model and quantize as normal.  How does this compare to pruning a model that has been fully trained?  \n",
    "\n",
    "Somewhat surprisingly, the accuracy difference the between the compressed form of the model that was trained on one epoch and the compressed form of the model that was trained on 10 epochs is only about 3%."
   ]
  },
  {
   "cell_type": "code",
   "execution_count": null,
   "metadata": {},
   "outputs": [],
   "source": []
  }
 ],
 "metadata": {
  "kernelspec": {
   "display_name": "Python 3",
   "language": "python",
   "name": "python3"
  },
  "language_info": {
   "codemirror_mode": {
    "name": "ipython",
    "version": 3
   },
   "file_extension": ".py",
   "mimetype": "text/x-python",
   "name": "python",
   "nbconvert_exporter": "python",
   "pygments_lexer": "ipython3",
   "version": "3.7.3"
  }
 },
 "nbformat": 4,
 "nbformat_minor": 2
}
